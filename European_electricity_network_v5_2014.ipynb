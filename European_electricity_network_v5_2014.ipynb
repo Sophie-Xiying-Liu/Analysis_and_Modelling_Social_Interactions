{
 "cells": [
  {
   "cell_type": "code",
   "execution_count": null,
   "metadata": {},
   "outputs": [],
   "source": [
    "import os\n",
    "import numpy as np\n",
    "import pandas as pd\n",
    "import networkx as nx\n",
    "import matplotlib.pyplot as plt\n",
    "from matplotlib.pyplot import cm\n",
    "from operator import itemgetter\n",
    "import pygraphviz"
   ]
  },
  {
   "cell_type": "code",
   "execution_count": null,
   "metadata": {},
   "outputs": [],
   "source": [
    "os.getcwd()"
   ]
  },
  {
   "cell_type": "markdown",
   "metadata": {},
   "source": [
    "# Load the data"
   ]
  },
  {
   "cell_type": "code",
   "execution_count": null,
   "metadata": {},
   "outputs": [],
   "source": [
    "# import data\n",
    "df = pd.read_excel('European_electricity_network_vFinal.xlsx', sheet_name='2014')\n",
    "df.head()"
   ]
  },
  {
   "cell_type": "code",
   "execution_count": null,
   "metadata": {},
   "outputs": [],
   "source": [
    "# drop unnecessary columns\n",
    "df_elec = df.drop(['Origin_Country'], axis=1)\n",
    "\n",
    "# Convert the wide table to long table\n",
    "Country_list = list(df_elec.columns)\n",
    "df_elec = df_elec.melt(id_vars=['Country_Code'], value_vars=(Country_list[1:]), var_name='Destination', value_name='Electricity_Flow')\n",
    "df_elec.rename(columns={'Country_Code':'Origin'}, inplace=True)\n",
    "\n",
    "# Sort the table based on origin country's name\n",
    "df_elec.sort_values('Origin', inplace=True, ascending=True)\n",
    "\n",
    "# Delete NAs (when Origin=Destination)\n",
    "df_elec.dropna(axis=0, inplace=True) \n",
    "\n",
    "# Delete zero-value rows\n",
    "df_elec = df_elec[df_elec.Electricity_Flow != 0]\n",
    "df_elec.reset_index(drop=True, inplace=True)\n",
    "\n",
    "df_elec.head()"
   ]
  },
  {
   "cell_type": "code",
   "execution_count": null,
   "metadata": {},
   "outputs": [],
   "source": [
    "len(df_elec)"
   ]
  },
  {
   "cell_type": "markdown",
   "metadata": {},
   "source": [
    "# Preparation before creating network"
   ]
  },
  {
   "cell_type": "markdown",
   "metadata": {},
   "source": [
    "## Create nodes list"
   ]
  },
  {
   "cell_type": "code",
   "execution_count": null,
   "metadata": {},
   "outputs": [],
   "source": [
    "node = df_elec['Origin'].unique()\n",
    "node_list = list(node)\n",
    "node_list[:5]"
   ]
  },
  {
   "cell_type": "markdown",
   "metadata": {},
   "source": [
    "## Calculate edge weights"
   ]
  },
  {
   "cell_type": "code",
   "execution_count": null,
   "metadata": {},
   "outputs": [],
   "source": [
    "ebunch = list(df_elec.to_records(index=False))"
   ]
  },
  {
   "cell_type": "code",
   "execution_count": null,
   "metadata": {},
   "outputs": [],
   "source": [
    "# use \"Electricity_Flow\" as weights\n",
    "weights_list = list(df_elec['Electricity_Flow'])"
   ]
  },
  {
   "cell_type": "code",
   "execution_count": null,
   "metadata": {},
   "outputs": [],
   "source": [
    "edge_width_list = [None]*len(weights_list)\n",
    "\n",
    "# use max(weight) to normalize the size of edges\n",
    "max_weights = max(weights_list)\n",
    "\n",
    "for i, weight in enumerate(weights_list):\n",
    "    edge_width_list[i] = weights_list[i]/max_weights*5\n",
    "\n",
    "# create an array of edge widths to be assigned to network\n",
    "edge_width = np.asarray(edge_width_list)"
   ]
  },
  {
   "cell_type": "markdown",
   "metadata": {},
   "source": [
    "## Calculate node size: total export of each country"
   ]
  },
  {
   "cell_type": "code",
   "execution_count": null,
   "metadata": {
    "scrolled": true
   },
   "outputs": [],
   "source": [
    "# calculate total export for each country\n",
    "df_total_export = df_elec.groupby(['Origin'], as_index=False).sum()\n",
    "df_total_export.columns = ['Country', 'Export']\n",
    "df_total_export.head()"
   ]
  },
  {
   "cell_type": "code",
   "execution_count": null,
   "metadata": {},
   "outputs": [],
   "source": [
    "# convert export dataframe to np array, to be assigned to node_size\n",
    "total_export = np.asarray(df_total_export['Export'])"
   ]
  },
  {
   "cell_type": "code",
   "execution_count": null,
   "metadata": {},
   "outputs": [],
   "source": [
    "# check top exporting countries\n",
    "df_total_export_sorted = df_total_export.sort_values(by='Export', ascending=False)\n",
    "df_total_export_sorted.head()"
   ]
  },
  {
   "cell_type": "markdown",
   "metadata": {},
   "source": [
    "# Create networks\n",
    "## Directed network"
   ]
  },
  {
   "cell_type": "code",
   "execution_count": null,
   "metadata": {},
   "outputs": [],
   "source": [
    "G = nx.DiGraph()\n",
    "G.add_nodes_from(node_list)\n",
    "G.add_weighted_edges_from(ebunch_to_add=ebunch, weight='weight')"
   ]
  },
  {
   "cell_type": "code",
   "execution_count": null,
   "metadata": {
    "scrolled": true
   },
   "outputs": [],
   "source": [
    "pos = nx.spring_layout(G, k=8, scale=6, seed=15)\n",
    "\n",
    "node_size = total_export/20\n",
    "node_color = [float(G.degree(i)) for i in G]\n",
    "\n",
    "plt.figure(figsize=(15,13))\n",
    "\n",
    "nodes = nx.draw_networkx_nodes(G, pos, node_size=node_size, node_color=node_color, alpha=0.5)\n",
    "edges = nx.draw_networkx_edges(G, pos, width=edge_width, edge_color='skyblue', \n",
    "                       arrowstyle='-|>', arrowsize=14,\n",
    "                       connectionstyle='arc3,rad=0.1')\n",
    "nx.draw_networkx_labels(G, pos, font_size=12)\n",
    "\n",
    "plt.title('European electricity export/import network (2014)', fontsize=15)\n",
    "plt.text(1.5,-4,'Node color is degree centrality; node size is total export', fontsize=12)\n",
    "cbar = plt.colorbar(mappable=nodes, cax=None, ax=None, fraction=0.015, pad=0.04)\n",
    "\n",
    "plt.axis('off')\n",
    "plt.show()\n",
    "\n",
    "# plt.margins(0,0)\n",
    "# plt.savefig(\"European electricity export/import network (2014).png\", dpi=1000)"
   ]
  },
  {
   "cell_type": "code",
   "execution_count": null,
   "metadata": {},
   "outputs": [],
   "source": [
    "list(G.degree())"
   ]
  },
  {
   "cell_type": "code",
   "execution_count": null,
   "metadata": {},
   "outputs": [],
   "source": [
    "nx.betweenness_centrality(G)"
   ]
  },
  {
   "cell_type": "code",
   "execution_count": null,
   "metadata": {},
   "outputs": [],
   "source": []
  }
 ],
 "metadata": {
  "kernelspec": {
   "display_name": "Python 3",
   "language": "python",
   "name": "python3"
  },
  "language_info": {
   "codemirror_mode": {
    "name": "ipython",
    "version": 3
   },
   "file_extension": ".py",
   "mimetype": "text/x-python",
   "name": "python",
   "nbconvert_exporter": "python",
   "pygments_lexer": "ipython3",
   "version": "3.7.4"
  }
 },
 "nbformat": 4,
 "nbformat_minor": 2
}
